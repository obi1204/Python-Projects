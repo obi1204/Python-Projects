{
  "nbformat": 4,
  "nbformat_minor": 0,
  "metadata": {
    "colab": {
      "provenance": [],
      "authorship_tag": "ABX9TyMrCVFmpXmCmRsZ1RH5ATLQ",
      "include_colab_link": true
    },
    "kernelspec": {
      "name": "python3",
      "display_name": "Python 3"
    },
    "language_info": {
      "name": "python"
    }
  },
  "cells": [
    {
      "cell_type": "markdown",
      "metadata": {
        "id": "view-in-github",
        "colab_type": "text"
      },
      "source": [
        "<a href=\"https://colab.research.google.com/github/obi1204/Python-Projects/blob/main/Retirement_Financial_Model.ipynb\" target=\"_parent\"><img src=\"https://colab.research.google.com/assets/colab-badge.svg\" alt=\"Open In Colab\"/></a>"
      ]
    },
    {
      "cell_type": "code",
      "execution_count": null,
      "metadata": {
        "id": "mUcDVYXWCa-y"
      },
      "outputs": [],
      "source": [
        "#Inputs\n",
        "salary = 40000\n",
        "savings_rate = 0.25\n",
        "investment_rate = 0.05\n",
        "desired_cash = 1500000"
      ]
    },
    {
      "cell_type": "code",
      "source": [
        "#Determining Cash Saved\n",
        "annual_cash = salary*savings_rate\n",
        "annual_cash"
      ],
      "metadata": {
        "colab": {
          "base_uri": "https://localhost:8080/"
        },
        "id": "jqXfvsR4Jy8U",
        "outputId": "a85260d2-f1b6-453c-e78f-67e2701730a7"
      },
      "execution_count": null,
      "outputs": [
        {
          "output_type": "execute_result",
          "data": {
            "text/plain": [
              "10000.0"
            ]
          },
          "metadata": {},
          "execution_count": 84
        }
      ]
    },
    {
      "cell_type": "code",
      "source": [
        "pip install numpy-financial"
      ],
      "metadata": {
        "colab": {
          "base_uri": "https://localhost:8080/"
        },
        "id": "qU--ZH0DaJrq",
        "outputId": "63263054-7e5e-42dc-db1c-a756a89eead7"
      },
      "execution_count": null,
      "outputs": [
        {
          "output_type": "stream",
          "name": "stdout",
          "text": [
            "Requirement already satisfied: numpy-financial in /usr/local/lib/python3.11/dist-packages (1.0.0)\n",
            "Requirement already satisfied: numpy>=1.15 in /usr/local/lib/python3.11/dist-packages (from numpy-financial) (2.0.2)\n"
          ]
        }
      ]
    },
    {
      "cell_type": "code",
      "source": [
        "#Years to Retirment\n",
        "import numpy_financial as npf\n",
        "years = npf.nper(investment_rate, -annual_cash, 0, desired_cash)\n",
        "print(f\"Martha has {years:.1f} years to retirment.\")"
      ],
      "metadata": {
        "colab": {
          "base_uri": "https://localhost:8080/"
        },
        "id": "1wUmuVu5L5hW",
        "outputId": "d3bc5d7a-f755-49ad-e7bd-3ffdd4cf4bdb"
      },
      "execution_count": null,
      "outputs": [
        {
          "output_type": "stream",
          "name": "stdout",
          "text": [
            "Martha has 43.9 years to retirment.\n"
          ]
        }
      ]
    },
    {
      "cell_type": "code",
      "source": [
        "#Multiple Interest Rates\n",
        "investment_rates = [0.05, 0.06, 0.07]\n",
        "for i_rate in investment_rates:\n",
        "    years = npf.nper(i_rate, -annual_cash, 0, desired_cash)\n",
        "    print(f\"Martha has {years:.1f} years to retirment with an investment rate of {i_rate}.\")"
      ],
      "metadata": {
        "colab": {
          "base_uri": "https://localhost:8080/"
        },
        "id": "5BMiYTAAWRff",
        "outputId": "0967a7a9-3d9f-487c-fe03-1497532a8abe"
      },
      "execution_count": null,
      "outputs": [
        {
          "output_type": "stream",
          "name": "stdout",
          "text": [
            "Martha has 43.9 years to retirment with an investment rate of 0.05.\n",
            "Martha has 39.5 years to retirment with an investment rate of 0.06.\n",
            "Martha has 36.1 years to retirment with an investment rate of 0.07.\n"
          ]
        }
      ]
    },
    {
      "cell_type": "code",
      "source": [
        "#Salary Retirement Model\n",
        "from dataclasses import dataclass"
      ],
      "metadata": {
        "id": "RR8-1qvs2RnH"
      },
      "execution_count": null,
      "outputs": []
    },
    {
      "cell_type": "code",
      "source": [
        "from dataclasses import dataclass\n",
        "\n",
        "@dataclass\n",
        "class ModelInputs:\n",
        "  starting_salary: int = 60000\n",
        "  promos_every_n_years: int = 5\n",
        "  cost_of_living_raise: float = 0.02\n",
        "  promo_raise: float = 0.15\n",
        "  savings_rate: float = 0.25\n",
        "  interest_rate: float = 0.05\n",
        "  desired_cash: int = 1500000\n",
        "\n",
        "model_data = ModelInputs()\n",
        "model_data"
      ],
      "metadata": {
        "colab": {
          "base_uri": "https://localhost:8080/"
        },
        "id": "w1oI71kI-uQw",
        "outputId": "7d48efee-fbb9-4af3-9d18-dd9305070e30"
      },
      "execution_count": null,
      "outputs": [
        {
          "output_type": "execute_result",
          "data": {
            "text/plain": [
              "ModelInputs(starting_salary=60000, promos_every_n_years=5, cost_of_living_raise=0.02, promo_raise=0.15, savings_rate=0.25, interest_rate=0.05, desired_cash=1500000)"
            ]
          },
          "metadata": {},
          "execution_count": 89
        }
      ]
    },
    {
      "cell_type": "code",
      "source": [
        "model_data.desired_cash"
      ],
      "metadata": {
        "colab": {
          "base_uri": "https://localhost:8080/"
        },
        "id": "qWvK1f2W_hYT",
        "outputId": "7b9eac59-cf12-4812-a737-b7307711495a"
      },
      "execution_count": null,
      "outputs": [
        {
          "output_type": "execute_result",
          "data": {
            "text/plain": [
              "1500000"
            ]
          },
          "metadata": {},
          "execution_count": 90
        }
      ]
    },
    {
      "cell_type": "code",
      "source": [
        "data.promo_raise"
      ],
      "metadata": {
        "colab": {
          "base_uri": "https://localhost:8080/"
        },
        "id": "f6flMG84_seg",
        "outputId": "1df012f5-7a54-497d-af3a-9a2e7e5d378e"
      },
      "execution_count": null,
      "outputs": [
        {
          "output_type": "execute_result",
          "data": {
            "text/plain": [
              "0.15"
            ]
          },
          "metadata": {},
          "execution_count": 91
        }
      ]
    },
    {
      "cell_type": "code",
      "source": [
        "#Salaries Model Determines the annual salary based on cost of living raises and promotions\n",
        "def salary_at_year(data, year):\n",
        "  num_promos = int(year/data.promos_every_n_years)\n",
        "  salary_t = data.starting_salary * (1 + data.cost_of_living_raise)**year * (1 + data.promo_raise)**num_promos\n",
        "  return salary_t\n",
        "\n",
        "d2 = ModelInputs(starting_salary=40000)"
      ],
      "metadata": {
        "id": "9kRfhcV9_udj"
      },
      "execution_count": null,
      "outputs": []
    },
    {
      "cell_type": "code",
      "source": [
        "for i in range(10):\n",
        "  year = i + 1\n",
        "  salary = salary_at_year(model_data, year)\n",
        "  print(f\"The salary at year {year} is ${salary:,.0f}\")"
      ],
      "metadata": {
        "colab": {
          "base_uri": "https://localhost:8080/"
        },
        "id": "rJ0MnMi_Cz_F",
        "outputId": "a4aa13a9-f055-4e2e-c6aa-5a8ec5c59f73"
      },
      "execution_count": null,
      "outputs": [
        {
          "output_type": "stream",
          "name": "stdout",
          "text": [
            "The salary at year 1 is $61,200\n",
            "The salary at year 2 is $62,424\n",
            "The salary at year 3 is $63,672\n",
            "The salary at year 4 is $64,946\n",
            "The salary at year 5 is $76,182\n",
            "The salary at year 6 is $77,705\n",
            "The salary at year 7 is $79,259\n",
            "The salary at year 8 is $80,844\n",
            "The salary at year 9 is $82,461\n",
            "The salary at year 10 is $96,727\n"
          ]
        }
      ]
    },
    {
      "cell_type": "code",
      "source": [
        "#Wealth Model\n",
        "\n",
        "year = 1\n",
        "\n",
        "def cash_saved_during_year(data, year):\n",
        "  salary = salary_at_year(data, year)\n",
        "  cash_saved = salary * data.savings_rate\n",
        "  return cash_saved\n",
        "\n",
        "cash_saved_during_year(model_data, 1)"
      ],
      "metadata": {
        "colab": {
          "base_uri": "https://localhost:8080/"
        },
        "id": "y4UrXWtGD1b-",
        "outputId": "ab49509f-7516-4dff-db44-aa3a6214e831"
      },
      "execution_count": null,
      "outputs": [
        {
          "output_type": "execute_result",
          "data": {
            "text/plain": [
              "15300.0"
            ]
          },
          "metadata": {},
          "execution_count": 94
        }
      ]
    },
    {
      "cell_type": "code",
      "source": [
        "def wealth_at_year(data, year, prior_wealth):\n",
        "  cash_saved = cash_saved_during_year(data, year)\n",
        "  wealth = prior_wealth * (1 + data.interest_rate) + cash_saved\n",
        "  return wealth\n",
        "\n",
        "wealth_at_year(data, 1, 0)"
      ],
      "metadata": {
        "colab": {
          "base_uri": "https://localhost:8080/"
        },
        "id": "VfguTJwbE4Xw",
        "outputId": "977faef1-562c-453a-9ac2-a276e3429a00"
      },
      "execution_count": null,
      "outputs": [
        {
          "output_type": "execute_result",
          "data": {
            "text/plain": [
              "15300.0"
            ]
          },
          "metadata": {},
          "execution_count": 95
        }
      ]
    },
    {
      "cell_type": "code",
      "source": [
        "prior_wealth = 0\n",
        "for i in range(6):\n",
        "  year = i + 1\n",
        "  wealth = wealth_at_year(data, year, prior_wealth)\n",
        "  print(f\"The wealth at year {year} is ${wealth:,.0f}\")\n",
        "  prior_wealth = wealth"
      ],
      "metadata": {
        "colab": {
          "base_uri": "https://localhost:8080/"
        },
        "id": "a74DP5GDGDej",
        "outputId": "ab4091e0-fb05-488c-d160-259b3eff001e"
      },
      "execution_count": null,
      "outputs": [
        {
          "output_type": "stream",
          "name": "stdout",
          "text": [
            "The wealth at year 1 is $15,300\n",
            "The wealth at year 2 is $31,671\n",
            "The wealth at year 3 is $49,173\n",
            "The wealth at year 4 is $67,868\n",
            "The wealth at year 5 is $90,307\n",
            "The wealth at year 6 is $114,248\n"
          ]
        }
      ]
    },
    {
      "cell_type": "code",
      "source": [
        "#Retirement Model\n",
        "def years_to_retirement(data):\n",
        "\n",
        "  prior_wealth = 0\n",
        "  year = 0\n",
        "  wealth = 0\n",
        "\n",
        "  print('Wealth over time: ')\n",
        "\n",
        "  while wealth < data.desired_cash:\n",
        "    year = year + 1\n",
        "    wealth = wealth_at_year(data, year, prior_wealth)\n",
        "    print(f\"The wealth at year {year} is ${wealth:,.0f}\")\n",
        "    prior_wealth = wealth\n",
        "\n",
        "  print('\\nRetirement: ')\n",
        "  print(f\"It will take {year} years to retire.\")"
      ],
      "metadata": {
        "id": "33vH68RLOLLv"
      },
      "execution_count": null,
      "outputs": []
    },
    {
      "cell_type": "code",
      "source": [
        "ytr = years_to_retirement(model_data)"
      ],
      "metadata": {
        "colab": {
          "base_uri": "https://localhost:8080/"
        },
        "id": "hFtXVc0CwF3F",
        "outputId": "8f6d32e3-eec6-4aed-95c7-835cc8504f0a"
      },
      "execution_count": null,
      "outputs": [
        {
          "output_type": "stream",
          "name": "stdout",
          "text": [
            "Wealth over time: \n",
            "The wealth at year 1 is $15,300\n",
            "The wealth at year 2 is $31,671\n",
            "The wealth at year 3 is $49,173\n",
            "The wealth at year 4 is $67,868\n",
            "The wealth at year 5 is $90,307\n",
            "The wealth at year 6 is $114,248\n",
            "The wealth at year 7 is $139,775\n",
            "The wealth at year 8 is $166,975\n",
            "The wealth at year 9 is $195,939\n",
            "The wealth at year 10 is $229,918\n",
            "The wealth at year 11 is $266,080\n",
            "The wealth at year 12 is $304,542\n",
            "The wealth at year 13 is $345,431\n",
            "The wealth at year 14 is $388,878\n",
            "The wealth at year 15 is $439,025\n",
            "The wealth at year 16 is $492,294\n",
            "The wealth at year 17 is $548,853\n",
            "The wealth at year 18 is $608,878\n",
            "The wealth at year 19 is $672,557\n",
            "The wealth at year 20 is $745,168\n",
            "The wealth at year 21 is $822,190\n",
            "The wealth at year 22 is $903,859\n",
            "The wealth at year 23 is $990,422\n",
            "The wealth at year 24 is $1,082,140\n",
            "The wealth at year 25 is $1,185,745\n",
            "The wealth at year 26 is $1,295,520\n",
            "The wealth at year 27 is $1,411,793\n",
            "The wealth at year 28 is $1,534,910\n",
            "\n",
            "Retirement: \n",
            "It will take 28 years to retire.\n"
          ]
        }
      ]
    },
    {
      "cell_type": "code",
      "source": [
        "import pandas as pd\n",
        "\n",
        "# Assuming ModelInputs and functions are already defined (from your script)\n",
        "data = ModelInputs()\n",
        "\n",
        "# Initialize list to hold simulation data\n",
        "records = []\n",
        "\n",
        "# Simulate for a number of years (e.g., 30)\n",
        "prior_wealth = 0\n",
        "for i in range(40):\n",
        "    year = i + 1\n",
        "    salary = salary_at_year(data, year)\n",
        "    cash_saved = cash_saved_during_year(data, year)\n",
        "    wealth = wealth_at_year(data, year, prior_wealth)\n",
        "    records.append({\n",
        "        \"Year\": year,\n",
        "        \"Salary\": salary,\n",
        "        \"Cash_Saved\": cash_saved,\n",
        "        \"Wealth\": wealth\n",
        "    })\n",
        "    prior_wealth = wealth\n",
        "\n",
        "# Convert to DataFrame\n",
        "Retirement_Model = pd.DataFrame(records)\n",
        "\n",
        "# Display the DataFrame\n",
        "Retirement_Model"
      ],
      "metadata": {
        "colab": {
          "base_uri": "https://localhost:8080/",
          "height": 687
        },
        "id": "--OG1O2g8d0L",
        "outputId": "f983ba4a-0cf0-4868-b231-645c16119983"
      },
      "execution_count": null,
      "outputs": [
        {
          "output_type": "execute_result",
          "data": {
            "text/plain": [
              "    Year         Salary     Cash_Saved        Wealth\n",
              "0      1   61200.000000   15300.000000  1.530000e+04\n",
              "1      2   62424.000000   15606.000000  3.167100e+04\n",
              "2      3   63672.480000   15918.120000  4.917267e+04\n",
              "3      4   64945.929600   16236.482400  6.786779e+04\n",
              "4      5   76181.575421   19045.393855  9.030657e+04\n",
              "5      6   77705.206929   19426.301732  1.142482e+05\n",
              "6      7   79259.311068   19814.827767  1.397754e+05\n",
              "7      8   80844.497289   20211.124322  1.669753e+05\n",
              "8      9   82461.387235   20615.346809  1.959394e+05\n",
              "9     10   96727.207227   24181.801807  2.299182e+05\n",
              "10    11   98661.751371   24665.437843  2.660796e+05\n",
              "11    12  100634.986399   25158.746600  3.045423e+05\n",
              "12    13  102647.686127   25661.921532  3.454313e+05\n",
              "13    14  104700.639849   26175.159962  3.888781e+05\n",
              "14    15  122813.850543   30703.462636  4.390254e+05\n",
              "15    16  125270.127554   31317.531888  4.922942e+05\n",
              "16    17  127775.530105   31943.882526  5.488528e+05\n",
              "17    18  130331.040707   32582.760177  6.088782e+05\n",
              "18    19  132937.661521   33234.415380  6.725565e+05\n",
              "19    20  155935.876964   38983.969241  7.451683e+05\n",
              "20    21  159054.594504   39763.648626  8.221904e+05\n",
              "21    22  162235.686394   40558.921598  9.038589e+05\n",
              "22    23  165480.400121   41370.100030  9.904219e+05\n",
              "23    24  168790.008124   42197.502031  1.082140e+06\n",
              "24    25  197990.679529   49497.669882  1.185745e+06\n",
              "25    26  201950.493120   50487.623280  1.295520e+06\n",
              "26    27  205989.502982   51497.375746  1.411793e+06\n",
              "27    28  210109.293042   52527.323260  1.534910e+06\n",
              "28    29  214311.478903   53577.869726  1.665234e+06\n",
              "29    30  251387.364753   62846.841188  1.811342e+06\n",
              "30    31  256415.112048   64103.778012  1.966013e+06\n",
              "31    32  261543.414289   65385.853572  2.129700e+06\n",
              "32    33  266774.282575   66693.570644  2.302878e+06\n",
              "33    34  272109.768226   68027.442057  2.486050e+06\n",
              "34    35  319184.758129   79796.189532  2.690148e+06\n",
              "35    36  325568.453292   81392.113323  2.906048e+06\n",
              "36    37  332079.822358   83019.955589  3.134370e+06\n",
              "37    38  338721.418805   84680.354701  3.375769e+06\n",
              "38    39  345495.847181   86373.961795  3.630932e+06\n",
              "39    40  405266.628743  101316.657186  3.913795e+06"
            ],
            "text/html": [
              "\n",
              "  <div id=\"df-6eb9ae37-bcbd-4ee6-b758-5863fd905533\" class=\"colab-df-container\">\n",
              "    <div>\n",
              "<style scoped>\n",
              "    .dataframe tbody tr th:only-of-type {\n",
              "        vertical-align: middle;\n",
              "    }\n",
              "\n",
              "    .dataframe tbody tr th {\n",
              "        vertical-align: top;\n",
              "    }\n",
              "\n",
              "    .dataframe thead th {\n",
              "        text-align: right;\n",
              "    }\n",
              "</style>\n",
              "<table border=\"1\" class=\"dataframe\">\n",
              "  <thead>\n",
              "    <tr style=\"text-align: right;\">\n",
              "      <th></th>\n",
              "      <th>Year</th>\n",
              "      <th>Salary</th>\n",
              "      <th>Cash_Saved</th>\n",
              "      <th>Wealth</th>\n",
              "    </tr>\n",
              "  </thead>\n",
              "  <tbody>\n",
              "    <tr>\n",
              "      <th>0</th>\n",
              "      <td>1</td>\n",
              "      <td>61200.000000</td>\n",
              "      <td>15300.000000</td>\n",
              "      <td>1.530000e+04</td>\n",
              "    </tr>\n",
              "    <tr>\n",
              "      <th>1</th>\n",
              "      <td>2</td>\n",
              "      <td>62424.000000</td>\n",
              "      <td>15606.000000</td>\n",
              "      <td>3.167100e+04</td>\n",
              "    </tr>\n",
              "    <tr>\n",
              "      <th>2</th>\n",
              "      <td>3</td>\n",
              "      <td>63672.480000</td>\n",
              "      <td>15918.120000</td>\n",
              "      <td>4.917267e+04</td>\n",
              "    </tr>\n",
              "    <tr>\n",
              "      <th>3</th>\n",
              "      <td>4</td>\n",
              "      <td>64945.929600</td>\n",
              "      <td>16236.482400</td>\n",
              "      <td>6.786779e+04</td>\n",
              "    </tr>\n",
              "    <tr>\n",
              "      <th>4</th>\n",
              "      <td>5</td>\n",
              "      <td>76181.575421</td>\n",
              "      <td>19045.393855</td>\n",
              "      <td>9.030657e+04</td>\n",
              "    </tr>\n",
              "    <tr>\n",
              "      <th>5</th>\n",
              "      <td>6</td>\n",
              "      <td>77705.206929</td>\n",
              "      <td>19426.301732</td>\n",
              "      <td>1.142482e+05</td>\n",
              "    </tr>\n",
              "    <tr>\n",
              "      <th>6</th>\n",
              "      <td>7</td>\n",
              "      <td>79259.311068</td>\n",
              "      <td>19814.827767</td>\n",
              "      <td>1.397754e+05</td>\n",
              "    </tr>\n",
              "    <tr>\n",
              "      <th>7</th>\n",
              "      <td>8</td>\n",
              "      <td>80844.497289</td>\n",
              "      <td>20211.124322</td>\n",
              "      <td>1.669753e+05</td>\n",
              "    </tr>\n",
              "    <tr>\n",
              "      <th>8</th>\n",
              "      <td>9</td>\n",
              "      <td>82461.387235</td>\n",
              "      <td>20615.346809</td>\n",
              "      <td>1.959394e+05</td>\n",
              "    </tr>\n",
              "    <tr>\n",
              "      <th>9</th>\n",
              "      <td>10</td>\n",
              "      <td>96727.207227</td>\n",
              "      <td>24181.801807</td>\n",
              "      <td>2.299182e+05</td>\n",
              "    </tr>\n",
              "    <tr>\n",
              "      <th>10</th>\n",
              "      <td>11</td>\n",
              "      <td>98661.751371</td>\n",
              "      <td>24665.437843</td>\n",
              "      <td>2.660796e+05</td>\n",
              "    </tr>\n",
              "    <tr>\n",
              "      <th>11</th>\n",
              "      <td>12</td>\n",
              "      <td>100634.986399</td>\n",
              "      <td>25158.746600</td>\n",
              "      <td>3.045423e+05</td>\n",
              "    </tr>\n",
              "    <tr>\n",
              "      <th>12</th>\n",
              "      <td>13</td>\n",
              "      <td>102647.686127</td>\n",
              "      <td>25661.921532</td>\n",
              "      <td>3.454313e+05</td>\n",
              "    </tr>\n",
              "    <tr>\n",
              "      <th>13</th>\n",
              "      <td>14</td>\n",
              "      <td>104700.639849</td>\n",
              "      <td>26175.159962</td>\n",
              "      <td>3.888781e+05</td>\n",
              "    </tr>\n",
              "    <tr>\n",
              "      <th>14</th>\n",
              "      <td>15</td>\n",
              "      <td>122813.850543</td>\n",
              "      <td>30703.462636</td>\n",
              "      <td>4.390254e+05</td>\n",
              "    </tr>\n",
              "    <tr>\n",
              "      <th>15</th>\n",
              "      <td>16</td>\n",
              "      <td>125270.127554</td>\n",
              "      <td>31317.531888</td>\n",
              "      <td>4.922942e+05</td>\n",
              "    </tr>\n",
              "    <tr>\n",
              "      <th>16</th>\n",
              "      <td>17</td>\n",
              "      <td>127775.530105</td>\n",
              "      <td>31943.882526</td>\n",
              "      <td>5.488528e+05</td>\n",
              "    </tr>\n",
              "    <tr>\n",
              "      <th>17</th>\n",
              "      <td>18</td>\n",
              "      <td>130331.040707</td>\n",
              "      <td>32582.760177</td>\n",
              "      <td>6.088782e+05</td>\n",
              "    </tr>\n",
              "    <tr>\n",
              "      <th>18</th>\n",
              "      <td>19</td>\n",
              "      <td>132937.661521</td>\n",
              "      <td>33234.415380</td>\n",
              "      <td>6.725565e+05</td>\n",
              "    </tr>\n",
              "    <tr>\n",
              "      <th>19</th>\n",
              "      <td>20</td>\n",
              "      <td>155935.876964</td>\n",
              "      <td>38983.969241</td>\n",
              "      <td>7.451683e+05</td>\n",
              "    </tr>\n",
              "    <tr>\n",
              "      <th>20</th>\n",
              "      <td>21</td>\n",
              "      <td>159054.594504</td>\n",
              "      <td>39763.648626</td>\n",
              "      <td>8.221904e+05</td>\n",
              "    </tr>\n",
              "    <tr>\n",
              "      <th>21</th>\n",
              "      <td>22</td>\n",
              "      <td>162235.686394</td>\n",
              "      <td>40558.921598</td>\n",
              "      <td>9.038589e+05</td>\n",
              "    </tr>\n",
              "    <tr>\n",
              "      <th>22</th>\n",
              "      <td>23</td>\n",
              "      <td>165480.400121</td>\n",
              "      <td>41370.100030</td>\n",
              "      <td>9.904219e+05</td>\n",
              "    </tr>\n",
              "    <tr>\n",
              "      <th>23</th>\n",
              "      <td>24</td>\n",
              "      <td>168790.008124</td>\n",
              "      <td>42197.502031</td>\n",
              "      <td>1.082140e+06</td>\n",
              "    </tr>\n",
              "    <tr>\n",
              "      <th>24</th>\n",
              "      <td>25</td>\n",
              "      <td>197990.679529</td>\n",
              "      <td>49497.669882</td>\n",
              "      <td>1.185745e+06</td>\n",
              "    </tr>\n",
              "    <tr>\n",
              "      <th>25</th>\n",
              "      <td>26</td>\n",
              "      <td>201950.493120</td>\n",
              "      <td>50487.623280</td>\n",
              "      <td>1.295520e+06</td>\n",
              "    </tr>\n",
              "    <tr>\n",
              "      <th>26</th>\n",
              "      <td>27</td>\n",
              "      <td>205989.502982</td>\n",
              "      <td>51497.375746</td>\n",
              "      <td>1.411793e+06</td>\n",
              "    </tr>\n",
              "    <tr>\n",
              "      <th>27</th>\n",
              "      <td>28</td>\n",
              "      <td>210109.293042</td>\n",
              "      <td>52527.323260</td>\n",
              "      <td>1.534910e+06</td>\n",
              "    </tr>\n",
              "    <tr>\n",
              "      <th>28</th>\n",
              "      <td>29</td>\n",
              "      <td>214311.478903</td>\n",
              "      <td>53577.869726</td>\n",
              "      <td>1.665234e+06</td>\n",
              "    </tr>\n",
              "    <tr>\n",
              "      <th>29</th>\n",
              "      <td>30</td>\n",
              "      <td>251387.364753</td>\n",
              "      <td>62846.841188</td>\n",
              "      <td>1.811342e+06</td>\n",
              "    </tr>\n",
              "    <tr>\n",
              "      <th>30</th>\n",
              "      <td>31</td>\n",
              "      <td>256415.112048</td>\n",
              "      <td>64103.778012</td>\n",
              "      <td>1.966013e+06</td>\n",
              "    </tr>\n",
              "    <tr>\n",
              "      <th>31</th>\n",
              "      <td>32</td>\n",
              "      <td>261543.414289</td>\n",
              "      <td>65385.853572</td>\n",
              "      <td>2.129700e+06</td>\n",
              "    </tr>\n",
              "    <tr>\n",
              "      <th>32</th>\n",
              "      <td>33</td>\n",
              "      <td>266774.282575</td>\n",
              "      <td>66693.570644</td>\n",
              "      <td>2.302878e+06</td>\n",
              "    </tr>\n",
              "    <tr>\n",
              "      <th>33</th>\n",
              "      <td>34</td>\n",
              "      <td>272109.768226</td>\n",
              "      <td>68027.442057</td>\n",
              "      <td>2.486050e+06</td>\n",
              "    </tr>\n",
              "    <tr>\n",
              "      <th>34</th>\n",
              "      <td>35</td>\n",
              "      <td>319184.758129</td>\n",
              "      <td>79796.189532</td>\n",
              "      <td>2.690148e+06</td>\n",
              "    </tr>\n",
              "    <tr>\n",
              "      <th>35</th>\n",
              "      <td>36</td>\n",
              "      <td>325568.453292</td>\n",
              "      <td>81392.113323</td>\n",
              "      <td>2.906048e+06</td>\n",
              "    </tr>\n",
              "    <tr>\n",
              "      <th>36</th>\n",
              "      <td>37</td>\n",
              "      <td>332079.822358</td>\n",
              "      <td>83019.955589</td>\n",
              "      <td>3.134370e+06</td>\n",
              "    </tr>\n",
              "    <tr>\n",
              "      <th>37</th>\n",
              "      <td>38</td>\n",
              "      <td>338721.418805</td>\n",
              "      <td>84680.354701</td>\n",
              "      <td>3.375769e+06</td>\n",
              "    </tr>\n",
              "    <tr>\n",
              "      <th>38</th>\n",
              "      <td>39</td>\n",
              "      <td>345495.847181</td>\n",
              "      <td>86373.961795</td>\n",
              "      <td>3.630932e+06</td>\n",
              "    </tr>\n",
              "    <tr>\n",
              "      <th>39</th>\n",
              "      <td>40</td>\n",
              "      <td>405266.628743</td>\n",
              "      <td>101316.657186</td>\n",
              "      <td>3.913795e+06</td>\n",
              "    </tr>\n",
              "  </tbody>\n",
              "</table>\n",
              "</div>\n",
              "    <div class=\"colab-df-buttons\">\n",
              "\n",
              "  <div class=\"colab-df-container\">\n",
              "    <button class=\"colab-df-convert\" onclick=\"convertToInteractive('df-6eb9ae37-bcbd-4ee6-b758-5863fd905533')\"\n",
              "            title=\"Convert this dataframe to an interactive table.\"\n",
              "            style=\"display:none;\">\n",
              "\n",
              "  <svg xmlns=\"http://www.w3.org/2000/svg\" height=\"24px\" viewBox=\"0 -960 960 960\">\n",
              "    <path d=\"M120-120v-720h720v720H120Zm60-500h600v-160H180v160Zm220 220h160v-160H400v160Zm0 220h160v-160H400v160ZM180-400h160v-160H180v160Zm440 0h160v-160H620v160ZM180-180h160v-160H180v160Zm440 0h160v-160H620v160Z\"/>\n",
              "  </svg>\n",
              "    </button>\n",
              "\n",
              "  <style>\n",
              "    .colab-df-container {\n",
              "      display:flex;\n",
              "      gap: 12px;\n",
              "    }\n",
              "\n",
              "    .colab-df-convert {\n",
              "      background-color: #E8F0FE;\n",
              "      border: none;\n",
              "      border-radius: 50%;\n",
              "      cursor: pointer;\n",
              "      display: none;\n",
              "      fill: #1967D2;\n",
              "      height: 32px;\n",
              "      padding: 0 0 0 0;\n",
              "      width: 32px;\n",
              "    }\n",
              "\n",
              "    .colab-df-convert:hover {\n",
              "      background-color: #E2EBFA;\n",
              "      box-shadow: 0px 1px 2px rgba(60, 64, 67, 0.3), 0px 1px 3px 1px rgba(60, 64, 67, 0.15);\n",
              "      fill: #174EA6;\n",
              "    }\n",
              "\n",
              "    .colab-df-buttons div {\n",
              "      margin-bottom: 4px;\n",
              "    }\n",
              "\n",
              "    [theme=dark] .colab-df-convert {\n",
              "      background-color: #3B4455;\n",
              "      fill: #D2E3FC;\n",
              "    }\n",
              "\n",
              "    [theme=dark] .colab-df-convert:hover {\n",
              "      background-color: #434B5C;\n",
              "      box-shadow: 0px 1px 3px 1px rgba(0, 0, 0, 0.15);\n",
              "      filter: drop-shadow(0px 1px 2px rgba(0, 0, 0, 0.3));\n",
              "      fill: #FFFFFF;\n",
              "    }\n",
              "  </style>\n",
              "\n",
              "    <script>\n",
              "      const buttonEl =\n",
              "        document.querySelector('#df-6eb9ae37-bcbd-4ee6-b758-5863fd905533 button.colab-df-convert');\n",
              "      buttonEl.style.display =\n",
              "        google.colab.kernel.accessAllowed ? 'block' : 'none';\n",
              "\n",
              "      async function convertToInteractive(key) {\n",
              "        const element = document.querySelector('#df-6eb9ae37-bcbd-4ee6-b758-5863fd905533');\n",
              "        const dataTable =\n",
              "          await google.colab.kernel.invokeFunction('convertToInteractive',\n",
              "                                                    [key], {});\n",
              "        if (!dataTable) return;\n",
              "\n",
              "        const docLinkHtml = 'Like what you see? Visit the ' +\n",
              "          '<a target=\"_blank\" href=https://colab.research.google.com/notebooks/data_table.ipynb>data table notebook</a>'\n",
              "          + ' to learn more about interactive tables.';\n",
              "        element.innerHTML = '';\n",
              "        dataTable['output_type'] = 'display_data';\n",
              "        await google.colab.output.renderOutput(dataTable, element);\n",
              "        const docLink = document.createElement('div');\n",
              "        docLink.innerHTML = docLinkHtml;\n",
              "        element.appendChild(docLink);\n",
              "      }\n",
              "    </script>\n",
              "  </div>\n",
              "\n",
              "\n",
              "    <div id=\"df-d9361963-bdde-4661-a0bc-7cb7da1f83bf\">\n",
              "      <button class=\"colab-df-quickchart\" onclick=\"quickchart('df-d9361963-bdde-4661-a0bc-7cb7da1f83bf')\"\n",
              "                title=\"Suggest charts\"\n",
              "                style=\"display:none;\">\n",
              "\n",
              "<svg xmlns=\"http://www.w3.org/2000/svg\" height=\"24px\"viewBox=\"0 0 24 24\"\n",
              "     width=\"24px\">\n",
              "    <g>\n",
              "        <path d=\"M19 3H5c-1.1 0-2 .9-2 2v14c0 1.1.9 2 2 2h14c1.1 0 2-.9 2-2V5c0-1.1-.9-2-2-2zM9 17H7v-7h2v7zm4 0h-2V7h2v10zm4 0h-2v-4h2v4z\"/>\n",
              "    </g>\n",
              "</svg>\n",
              "      </button>\n",
              "\n",
              "<style>\n",
              "  .colab-df-quickchart {\n",
              "      --bg-color: #E8F0FE;\n",
              "      --fill-color: #1967D2;\n",
              "      --hover-bg-color: #E2EBFA;\n",
              "      --hover-fill-color: #174EA6;\n",
              "      --disabled-fill-color: #AAA;\n",
              "      --disabled-bg-color: #DDD;\n",
              "  }\n",
              "\n",
              "  [theme=dark] .colab-df-quickchart {\n",
              "      --bg-color: #3B4455;\n",
              "      --fill-color: #D2E3FC;\n",
              "      --hover-bg-color: #434B5C;\n",
              "      --hover-fill-color: #FFFFFF;\n",
              "      --disabled-bg-color: #3B4455;\n",
              "      --disabled-fill-color: #666;\n",
              "  }\n",
              "\n",
              "  .colab-df-quickchart {\n",
              "    background-color: var(--bg-color);\n",
              "    border: none;\n",
              "    border-radius: 50%;\n",
              "    cursor: pointer;\n",
              "    display: none;\n",
              "    fill: var(--fill-color);\n",
              "    height: 32px;\n",
              "    padding: 0;\n",
              "    width: 32px;\n",
              "  }\n",
              "\n",
              "  .colab-df-quickchart:hover {\n",
              "    background-color: var(--hover-bg-color);\n",
              "    box-shadow: 0 1px 2px rgba(60, 64, 67, 0.3), 0 1px 3px 1px rgba(60, 64, 67, 0.15);\n",
              "    fill: var(--button-hover-fill-color);\n",
              "  }\n",
              "\n",
              "  .colab-df-quickchart-complete:disabled,\n",
              "  .colab-df-quickchart-complete:disabled:hover {\n",
              "    background-color: var(--disabled-bg-color);\n",
              "    fill: var(--disabled-fill-color);\n",
              "    box-shadow: none;\n",
              "  }\n",
              "\n",
              "  .colab-df-spinner {\n",
              "    border: 2px solid var(--fill-color);\n",
              "    border-color: transparent;\n",
              "    border-bottom-color: var(--fill-color);\n",
              "    animation:\n",
              "      spin 1s steps(1) infinite;\n",
              "  }\n",
              "\n",
              "  @keyframes spin {\n",
              "    0% {\n",
              "      border-color: transparent;\n",
              "      border-bottom-color: var(--fill-color);\n",
              "      border-left-color: var(--fill-color);\n",
              "    }\n",
              "    20% {\n",
              "      border-color: transparent;\n",
              "      border-left-color: var(--fill-color);\n",
              "      border-top-color: var(--fill-color);\n",
              "    }\n",
              "    30% {\n",
              "      border-color: transparent;\n",
              "      border-left-color: var(--fill-color);\n",
              "      border-top-color: var(--fill-color);\n",
              "      border-right-color: var(--fill-color);\n",
              "    }\n",
              "    40% {\n",
              "      border-color: transparent;\n",
              "      border-right-color: var(--fill-color);\n",
              "      border-top-color: var(--fill-color);\n",
              "    }\n",
              "    60% {\n",
              "      border-color: transparent;\n",
              "      border-right-color: var(--fill-color);\n",
              "    }\n",
              "    80% {\n",
              "      border-color: transparent;\n",
              "      border-right-color: var(--fill-color);\n",
              "      border-bottom-color: var(--fill-color);\n",
              "    }\n",
              "    90% {\n",
              "      border-color: transparent;\n",
              "      border-bottom-color: var(--fill-color);\n",
              "    }\n",
              "  }\n",
              "</style>\n",
              "\n",
              "      <script>\n",
              "        async function quickchart(key) {\n",
              "          const quickchartButtonEl =\n",
              "            document.querySelector('#' + key + ' button');\n",
              "          quickchartButtonEl.disabled = true;  // To prevent multiple clicks.\n",
              "          quickchartButtonEl.classList.add('colab-df-spinner');\n",
              "          try {\n",
              "            const charts = await google.colab.kernel.invokeFunction(\n",
              "                'suggestCharts', [key], {});\n",
              "          } catch (error) {\n",
              "            console.error('Error during call to suggestCharts:', error);\n",
              "          }\n",
              "          quickchartButtonEl.classList.remove('colab-df-spinner');\n",
              "          quickchartButtonEl.classList.add('colab-df-quickchart-complete');\n",
              "        }\n",
              "        (() => {\n",
              "          let quickchartButtonEl =\n",
              "            document.querySelector('#df-d9361963-bdde-4661-a0bc-7cb7da1f83bf button');\n",
              "          quickchartButtonEl.style.display =\n",
              "            google.colab.kernel.accessAllowed ? 'block' : 'none';\n",
              "        })();\n",
              "      </script>\n",
              "    </div>\n",
              "\n",
              "  <div id=\"id_f4dedf37-99fe-467b-8cf3-f34097899bc7\">\n",
              "    <style>\n",
              "      .colab-df-generate {\n",
              "        background-color: #E8F0FE;\n",
              "        border: none;\n",
              "        border-radius: 50%;\n",
              "        cursor: pointer;\n",
              "        display: none;\n",
              "        fill: #1967D2;\n",
              "        height: 32px;\n",
              "        padding: 0 0 0 0;\n",
              "        width: 32px;\n",
              "      }\n",
              "\n",
              "      .colab-df-generate:hover {\n",
              "        background-color: #E2EBFA;\n",
              "        box-shadow: 0px 1px 2px rgba(60, 64, 67, 0.3), 0px 1px 3px 1px rgba(60, 64, 67, 0.15);\n",
              "        fill: #174EA6;\n",
              "      }\n",
              "\n",
              "      [theme=dark] .colab-df-generate {\n",
              "        background-color: #3B4455;\n",
              "        fill: #D2E3FC;\n",
              "      }\n",
              "\n",
              "      [theme=dark] .colab-df-generate:hover {\n",
              "        background-color: #434B5C;\n",
              "        box-shadow: 0px 1px 3px 1px rgba(0, 0, 0, 0.15);\n",
              "        filter: drop-shadow(0px 1px 2px rgba(0, 0, 0, 0.3));\n",
              "        fill: #FFFFFF;\n",
              "      }\n",
              "    </style>\n",
              "    <button class=\"colab-df-generate\" onclick=\"generateWithVariable('Retirement_Model')\"\n",
              "            title=\"Generate code using this dataframe.\"\n",
              "            style=\"display:none;\">\n",
              "\n",
              "  <svg xmlns=\"http://www.w3.org/2000/svg\" height=\"24px\"viewBox=\"0 0 24 24\"\n",
              "       width=\"24px\">\n",
              "    <path d=\"M7,19H8.4L18.45,9,17,7.55,7,17.6ZM5,21V16.75L18.45,3.32a2,2,0,0,1,2.83,0l1.4,1.43a1.91,1.91,0,0,1,.58,1.4,1.91,1.91,0,0,1-.58,1.4L9.25,21ZM18.45,9,17,7.55Zm-12,3A5.31,5.31,0,0,0,4.9,8.1,5.31,5.31,0,0,0,1,6.5,5.31,5.31,0,0,0,4.9,4.9,5.31,5.31,0,0,0,6.5,1,5.31,5.31,0,0,0,8.1,4.9,5.31,5.31,0,0,0,12,6.5,5.46,5.46,0,0,0,6.5,12Z\"/>\n",
              "  </svg>\n",
              "    </button>\n",
              "    <script>\n",
              "      (() => {\n",
              "      const buttonEl =\n",
              "        document.querySelector('#id_f4dedf37-99fe-467b-8cf3-f34097899bc7 button.colab-df-generate');\n",
              "      buttonEl.style.display =\n",
              "        google.colab.kernel.accessAllowed ? 'block' : 'none';\n",
              "\n",
              "      buttonEl.onclick = () => {\n",
              "        google.colab.notebook.generateWithVariable('Retirement_Model');\n",
              "      }\n",
              "      })();\n",
              "    </script>\n",
              "  </div>\n",
              "\n",
              "    </div>\n",
              "  </div>\n"
            ],
            "application/vnd.google.colaboratory.intrinsic+json": {
              "type": "dataframe",
              "variable_name": "Retirement_Model",
              "summary": "{\n  \"name\": \"Retirement_Model\",\n  \"rows\": 40,\n  \"fields\": [\n    {\n      \"column\": \"Year\",\n      \"properties\": {\n        \"dtype\": \"number\",\n        \"std\": 11,\n        \"min\": 1,\n        \"max\": 40,\n        \"num_unique_values\": 40,\n        \"samples\": [\n          20,\n          17,\n          16\n        ],\n        \"semantic_type\": \"\",\n        \"description\": \"\"\n      }\n    },\n    {\n      \"column\": \"Salary\",\n      \"properties\": {\n        \"dtype\": \"number\",\n        \"std\": 95480.73768252696,\n        \"min\": 61200.0,\n        \"max\": 405266.62874345365,\n        \"num_unique_values\": 40,\n        \"samples\": [\n          155935.876964242,\n          127775.53010485673,\n          125270.12755378109\n        ],\n        \"semantic_type\": \"\",\n        \"description\": \"\"\n      }\n    },\n    {\n      \"column\": \"Cash_Saved\",\n      \"properties\": {\n        \"dtype\": \"number\",\n        \"std\": 23870.18442063174,\n        \"min\": 15300.0,\n        \"max\": 101316.65718586341,\n        \"num_unique_values\": 40,\n        \"samples\": [\n          38983.9692410605,\n          31943.882526214184,\n          31317.53188844527\n        ],\n        \"semantic_type\": \"\",\n        \"description\": \"\"\n      }\n    },\n    {\n      \"column\": \"Wealth\",\n      \"properties\": {\n        \"dtype\": \"number\",\n        \"std\": 1127229.258216035,\n        \"min\": 15300.0,\n        \"max\": 3913794.777528657,\n        \"num_unique_values\": 40,\n        \"samples\": [\n          745168.3440609243,\n          548852.819847293,\n          492294.22602007503\n        ],\n        \"semantic_type\": \"\",\n        \"description\": \"\"\n      }\n    }\n  ]\n}"
            }
          },
          "metadata": {},
          "execution_count": 101
        }
      ]
    },
    {
      "cell_type": "code",
      "source": [
        "Retirement_Model.to_csv('Retirement_Model.csv', index=False)"
      ],
      "metadata": {
        "id": "h3-TAiIz-bYt"
      },
      "execution_count": null,
      "outputs": []
    }
  ]
}